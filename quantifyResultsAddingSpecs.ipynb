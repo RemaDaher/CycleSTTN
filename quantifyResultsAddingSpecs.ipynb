{
 "cells": [
  {
   "cell_type": "code",
   "execution_count": 7,
   "metadata": {},
   "outputs": [],
   "source": [
    "def quantify_results(Method, direc, SaveName, frameresult, OrigFrameFolder, ending):\n",
    "        from tqdm.notebook import tqdm, trange\n",
    "        from matplotlib.pyplot import imshow, subplots\n",
    "        import cv2\n",
    "        import numpy as np\n",
    "        import glob\n",
    "        import os\n",
    "        import pandas as pd\n",
    "        from skimage.measure import compare_ssim as ssim\n",
    "        from skimage.measure import compare_mse as mse\n",
    "        from skimage.measure import compare_psnr as psnr\n",
    "        from PIL import Image\n",
    "\n",
    "        #for cross change all ellipse to cross\n",
    "        columnNames=[\"videoName\", \"Method\", \"PSNRavg\",\"PSNRstd\", \"SSIMavg\",\"SSIMstd\", \"MSEavg\",\"MSEstd\"]\n",
    "        df = pd.DataFrame(columns=columnNames)            \n",
    "\n",
    "        videoNames=[f'hyperK_{i}' for i in range(343, 373)]\n",
    "\n",
    "\n",
    "\n",
    "        for videoName in tqdm(videoNames):\n",
    "                # print(direc+videoName+frameresult+\"/*\"+ending)\n",
    "                TransFrameFiles=sorted(glob.glob(direc+videoName+frameresult+\"/*\"+ending))\n",
    "                OrigFrameFile=OrigFrameFolder+videoName+\"/\"\n",
    "                PSNR=[]\n",
    "                MSE=[]\n",
    "                SSIM=[]\n",
    "                cnt=0\n",
    "                adder=0\n",
    "                for TransFrameFile in TransFrameFiles:\n",
    "                        cnt=cnt+1\n",
    "                        numStr=int(''.join(filter(str.isdigit, os.path.basename(TransFrameFile))))\n",
    "                        if cnt==1 and numStr==1: adder=1\n",
    "                        else: adder=0\n",
    "                        TransName=(str(numStr-adder)).zfill(5)+\".jpg\"\n",
    "                        TransImageFull= np.array(Image.open(TransFrameFile))\n",
    "\n",
    "                        OrigImage=np.array(Image.open(OrigFrameFile+TransName))\n",
    "                        # print(OrigImage.shape, TransImageFull.shape)\n",
    "\n",
    "                        PSNR.append(psnr(OrigImage,TransImageFull))\n",
    "                        MSE.append(mse(OrigImage,TransImageFull))\n",
    "                        SSIM.append(ssim(OrigImage,TransImageFull,multichannel=3))\n",
    "\n",
    "\n",
    "                PSNRavg=np.mean(PSNR)\n",
    "                PSNRstd=np.std(PSNR)\n",
    "\n",
    "                MSEavg=np.mean(MSE)\n",
    "                MSEstd=np.std(MSE)\n",
    "\n",
    "                SSIMavg=np.mean(SSIM)\n",
    "                SSIMstd=np.std(SSIM)\n",
    "\n",
    "                df_temp=pd.DataFrame([[videoName, Method,\n",
    "                                PSNRavg, PSNRstd, SSIMavg,SSIMstd, MSEavg,MSEstd]],columns=columnNames)\n",
    "                df=df.append(df_temp)\n",
    "\n",
    "        df.to_csv(SaveName)  "
   ]
  },
  {
   "attachments": {},
   "cell_type": "markdown",
   "metadata": {},
   "source": [
    "# Examples"
   ]
  },
  {
   "cell_type": "code",
   "execution_count": 3,
   "metadata": {},
   "outputs": [
    {
     "name": "stdout",
     "output_type": "stream",
     "text": [
      "The autoreload extension is already loaded. To reload it, use:\n",
      "  %reload_ext autoreload\n"
     ]
    },
    {
     "data": {
      "application/vnd.jupyter.widget-view+json": {
       "model_id": "528eb35d002a472183cf1d35db2265a4",
       "version_major": 2,
       "version_minor": 0
      },
      "text/plain": [
       "HBox(children=(HTML(value=''), FloatProgress(value=0.0, max=30.0), HTML(value='')))"
      ]
     },
     "metadata": {},
     "output_type": "display_data"
    },
    {
     "name": "stdout",
     "output_type": "stream",
     "text": [
      "\n"
     ]
    },
    {
     "data": {
      "application/vnd.jupyter.widget-view+json": {
       "model_id": "2bd34d5b85e44834bd4fdf1286c144d5",
       "version_major": 2,
       "version_minor": 0
      },
      "text/plain": [
       "HBox(children=(HTML(value=''), FloatProgress(value=0.0, max=30.0), HTML(value='')))"
      ]
     },
     "metadata": {},
     "output_type": "display_data"
    },
    {
     "name": "stdout",
     "output_type": "stream",
     "text": [
      "\n"
     ]
    },
    {
     "ename": "IndexError",
     "evalue": "list index out of range",
     "output_type": "error",
     "traceback": [
      "\u001b[0;31m---------------------------------------------------------------------------\u001b[0m",
      "\u001b[0;31mIndexError\u001b[0m                                Traceback (most recent call last)",
      "\u001b[0;32m<ipython-input-3-db7c57d97a7a>\u001b[0m in \u001b[0;36m<module>\u001b[0;34m\u001b[0m\n\u001b[1;32m     17\u001b[0m \u001b[0;34m\u001b[0m\u001b[0m\n\u001b[1;32m     18\u001b[0m \u001b[0;32mfor\u001b[0m \u001b[0mi\u001b[0m \u001b[0;32min\u001b[0m \u001b[0mrange\u001b[0m\u001b[0;34m(\u001b[0m\u001b[0mlen\u001b[0m\u001b[0;34m(\u001b[0m\u001b[0mMethod\u001b[0m\u001b[0;34m)\u001b[0m\u001b[0;34m)\u001b[0m\u001b[0;34m:\u001b[0m\u001b[0;34m\u001b[0m\u001b[0;34m\u001b[0m\u001b[0m\n\u001b[0;32m---> 19\u001b[0;31m     \u001b[0mdirec\u001b[0m\u001b[0;34m=\u001b[0m\u001b[0mdirecbase\u001b[0m\u001b[0;34m[\u001b[0m\u001b[0mi\u001b[0m\u001b[0;34m]\u001b[0m\u001b[0;34m+\u001b[0m\u001b[0mMethod\u001b[0m\u001b[0;34m[\u001b[0m\u001b[0mi\u001b[0m\u001b[0;34m]\u001b[0m\u001b[0;34m+\u001b[0m\u001b[0;34m\"/NS/\"\u001b[0m\u001b[0;34m+\u001b[0m\u001b[0miters\u001b[0m\u001b[0;34m[\u001b[0m\u001b[0mi\u001b[0m\u001b[0;34m]\u001b[0m\u001b[0;34m+\u001b[0m\u001b[0;34m\"/\"\u001b[0m\u001b[0;34m\u001b[0m\u001b[0;34m\u001b[0m\u001b[0m\n\u001b[0m\u001b[1;32m     20\u001b[0m     \u001b[0mSaveName\u001b[0m\u001b[0;34m=\u001b[0m\u001b[0msavedir\u001b[0m\u001b[0;34m+\u001b[0m\u001b[0;34m\"ResultsInpainting\"\u001b[0m\u001b[0;34m+\u001b[0m\u001b[0mMethod\u001b[0m\u001b[0;34m[\u001b[0m\u001b[0mi\u001b[0m\u001b[0;34m]\u001b[0m\u001b[0;34m+\u001b[0m\u001b[0;34m\".csv\"\u001b[0m\u001b[0;34m\u001b[0m\u001b[0;34m\u001b[0m\u001b[0m\n\u001b[1;32m     21\u001b[0m     \u001b[0mquantify_results\u001b[0m\u001b[0;34m(\u001b[0m\u001b[0mMethod\u001b[0m\u001b[0;34m[\u001b[0m\u001b[0mi\u001b[0m\u001b[0;34m]\u001b[0m\u001b[0;34m,\u001b[0m \u001b[0mdirec\u001b[0m\u001b[0;34m,\u001b[0m \u001b[0mSaveName\u001b[0m\u001b[0;34m,\u001b[0m \u001b[0mframeresult\u001b[0m\u001b[0;34m[\u001b[0m\u001b[0mi\u001b[0m\u001b[0;34m]\u001b[0m\u001b[0;34m,\u001b[0m \u001b[0mOrigFrameFolder\u001b[0m\u001b[0;34m)\u001b[0m\u001b[0;34m\u001b[0m\u001b[0;34m\u001b[0m\u001b[0m\n",
      "\u001b[0;31mIndexError\u001b[0m: list index out of range"
     ]
    }
   ],
   "source": [
    "%matplotlib inline\n",
    "%load_ext autoreload\n",
    "%autoreload 2\n",
    "OrigFrameFolder = \"/home/datasets/Hyper_Kvasir/Resized_Renamed_Images_withMasks/Data_NotCropped_usedForTrainingEndoSTTNoriginally/testFrames/\"\n",
    "savedir = \"/home/rdaher/workspace/phd-work/Endo-STTN/results/\"\n",
    "\n",
    "direcbase=[\"/home/datasets/Trainedmodelsandresults/Endo-STTN/SanityChecks/\",\n",
    "           \"/home/datasets/Trainedmodelsandresults/Endo-STTN/release_model/\"]\n",
    "Method = [\"sttn_SanityCheck16\",\n",
    "          \"sttn_hyper-kvasir-Addingspec-GTdata\"]#,\"PseudoSTTNdataCycle_Identity_A2losses_\"]\n",
    "iters=[\"gen_00020\",\n",
    "       \"gen_00003\"]\n",
    "frameresult=[\"/notoverlaid/nomask/B/frameresult/\",\n",
    "             \"/notoverlaid/notshifted/nomask/frameresult/\"]\n",
    "ending = [\"\",\"\"]#,\"_fake_B.png\"]\n",
    "\n",
    "\n",
    "for i in range(len(Method)):\n",
    "    direc=direcbase[i]+Method[i]+\"/NS/\"+iters[i]+\"/\"\n",
    "    SaveName=savedir+\"ResultsInpainting\"+Method[i]+\".csv\"\n",
    "    quantify_results(Method[i], direc, SaveName, frameresult[i], OrigFrameFolder)\n"
   ]
  },
  {
   "cell_type": "code",
   "execution_count": 8,
   "metadata": {},
   "outputs": [
    {
     "name": "stdout",
     "output_type": "stream",
     "text": [
      "The autoreload extension is already loaded. To reload it, use:\n",
      "  %reload_ext autoreload\n"
     ]
    },
    {
     "data": {
      "application/vnd.jupyter.widget-view+json": {
       "model_id": "3335f388ff0d4f1c850ab26c36107f8b",
       "version_major": 2,
       "version_minor": 0
      },
      "text/plain": [
       "HBox(children=(HTML(value=''), FloatProgress(value=0.0, max=30.0), HTML(value='')))"
      ]
     },
     "metadata": {},
     "output_type": "display_data"
    },
    {
     "name": "stdout",
     "output_type": "stream",
     "text": [
      "\n"
     ]
    },
    {
     "data": {
      "application/vnd.jupyter.widget-view+json": {
       "model_id": "e4790f2fa9bf47048e1121b5dff7b572",
       "version_major": 2,
       "version_minor": 0
      },
      "text/plain": [
       "HBox(children=(HTML(value=''), FloatProgress(value=0.0, max=30.0), HTML(value='')))"
      ]
     },
     "metadata": {},
     "output_type": "display_data"
    },
    {
     "name": "stdout",
     "output_type": "stream",
     "text": [
      "\n"
     ]
    }
   ],
   "source": [
    "# nontemporal\n",
    "%matplotlib inline\n",
    "%load_ext autoreload\n",
    "%autoreload 2\n",
    "OrigFrameFolder = \"/home/datasets/Hyper_Kvasir/Resized_Renamed_Images_withMasks/Data_NotCropped_usedForTrainingEndoSTTNoriginally/testFrames/\"\n",
    "savedir = \"/home/rdaher/workspace/phd-work/Endo-STTN/results/\"\n",
    "\n",
    "direcbase=[\"/home/datasets/Trainedmodelsandresults/Endo-STTN/SanityChecks/\",\n",
    "           \"/home/datasets/Trainedmodelsandresults/Endo-STTN/release_model/\"]\n",
    "Method = [\"sttn_SanityCheck16\",\n",
    "          \"sttn_hyper-kvasir-Addingspec-GTdata\"]#,\"PseudoSTTNdataCycle_Identity_A2losses_\"]\n",
    "MethodT = [\"sttn_SanityCheck16-nontemp\",\n",
    "          \"sttn_hyper-kvasir-Addingspec-GTdata-nontemp\"]#,\"PseudoSTTNdataCycle_Identity_A2losses_\"]\n",
    "iters=[\"gen_00020\",\n",
    "       \"gen_00003\"]\n",
    "frameresult=[\"/notoverlaid/nomask/B/frameresult/\",\n",
    "             \"/notoverlaid/notshifted/nomask/frameresult/\"]\n",
    "ending = [\"\",\"\"]#,\"_fake_B.png\"]\n",
    "\n",
    "\n",
    "for i in range(len(Method)):\n",
    "    direc=direcbase[i]+Method[i]+\"/NS/NoTemporalv3/\"+iters[i]+\"/\"\n",
    "    SaveName=savedir+\"ResultsInpaintingNoTemporal\"+Method[i]+\".csv\"\n",
    "    quantify_results(MethodT[i], direc, SaveName, frameresult[i], OrigFrameFolder, ending[i])"
   ]
  },
  {
   "cell_type": "code",
   "execution_count": 4,
   "metadata": {},
   "outputs": [
    {
     "data": {
      "application/vnd.jupyter.widget-view+json": {
       "model_id": "e8e318bd665d4c7fbfb1310f30c60593",
       "version_major": 2,
       "version_minor": 0
      },
      "text/plain": [
       "HBox(children=(HTML(value=''), FloatProgress(value=0.0, max=30.0), HTML(value='')))"
      ]
     },
     "metadata": {},
     "output_type": "display_data"
    },
    {
     "name": "stdout",
     "output_type": "stream",
     "text": [
      "\n"
     ]
    },
    {
     "data": {
      "application/vnd.jupyter.widget-view+json": {
       "model_id": "1a6c446f4c3f4110b15b49fa564ad2cc",
       "version_major": 2,
       "version_minor": 0
      },
      "text/plain": [
       "HBox(children=(HTML(value=''), FloatProgress(value=0.0, max=30.0), HTML(value='')))"
      ]
     },
     "metadata": {},
     "output_type": "display_data"
    },
    {
     "name": "stdout",
     "output_type": "stream",
     "text": [
      "\n"
     ]
    }
   ],
   "source": [
    "#cycleGAN\n",
    "%matplotlib inline\n",
    "%load_ext autoreload\n",
    "%autoreload 2\n",
    "OrigFrameFolder = \"/home/datasets/Hyper_Kvasir/Resized_Renamed_Images_withMasks/Data_NotCropped_usedForTrainingEndoSTTNoriginally/testFrames/\"\n",
    "savedir = \"/home/rdaher/workspace/phd-work/Endo-STTN/results/\"\n",
    "\n",
    "direcbase=[\"/home/rdaher/workspace/phd-work/Recycle-GAN/results/\",\n",
    "           \"/home/rdaher/workspace/phd-work/Recycle-GAN/results/\"]\n",
    "Method = [\"PseudoSTTNdataCycleGAN\",\n",
    "          \"PseudoSTTNdataCycleGAN_identityAhole\"]\n",
    "iters=[\"/test_1/images\",\n",
    "       \"/test_1/images\"]\n",
    "frameresult=[\"\",\n",
    "             \"\"]\n",
    "ending = [\"_fake_B.png\",\n",
    "          \"_fake_B.png\"]\n",
    "\n",
    "\n",
    "for i in range(len(Method)):\n",
    "    direc=direcbase[i]+Method[i]+iters[i]+\"/\"\n",
    "    SaveName=savedir+\"ResultsInpainting\"+Method[i]+\".csv\"\n",
    "    quantify_results(Method[i], direc, SaveName, frameresult[i], OrigFrameFolder, ending[i])\n"
   ]
  },
  {
   "attachments": {},
   "cell_type": "markdown",
   "metadata": {},
   "source": [
    "# Before Evaluation"
   ]
  },
  {
   "attachments": {},
   "cell_type": "markdown",
   "metadata": {},
   "source": [
    "1. To generate results before evaluating:\n",
    "    1. make sure in test code:\n",
    "        - added for memory issue  \n",
    "        if len(frames)>927:  \n",
    "            masks=masks[:927]  \n",
    "            frames=frames[:927]"
   ]
  },
  {
   "cell_type": "code",
   "execution_count": 1,
   "metadata": {},
   "outputs": [
    {
     "name": "stdout",
     "output_type": "stream",
     "text": [
      "python test-cycle.py --gpu 0 --NoMask --output /home/datasets/Trainedmodelsandresults/Endo-STTN/SanityChecks/sttn_SanityCheck16/NS/ --frame /home/datasets/Hyper_Kvasir/Resized_Renamed_Images_withMasks/Data_NotCropped_usedForTrainingEndoSTTNoriginally/testFramesNS/hyperK_351/ --mask /home/datasets/Hyper_Kvasir/Resized_Renamed_Images_withMasks/Data_NotCropped_usedForTrainingEndoSTTNoriginally/testAnnot/hyperK_351/ --ckptpath /home/datasets/Trainedmodelsandresults/Endo-STTN/SanityChecks/sttn_SanityCheck16/ --ckptnumber 20\n",
      "python test-cycle.py --gpu 0 --NoMask --output /home/datasets/Trainedmodelsandresults/Endo-STTN/SanityChecks/sttn_SanityCheck16/NS/ --frame /home/datasets/Hyper_Kvasir/Resized_Renamed_Images_withMasks/Data_NotCropped_usedForTrainingEndoSTTNoriginally/testFramesNS/hyperK_359/ --mask /home/datasets/Hyper_Kvasir/Resized_Renamed_Images_withMasks/Data_NotCropped_usedForTrainingEndoSTTNoriginally/testAnnot/hyperK_359/ --ckptpath /home/datasets/Trainedmodelsandresults/Endo-STTN/SanityChecks/sttn_SanityCheck16/ --ckptnumber 20\n",
      "python test-cycle.py --gpu 0 --NoMask --output /home/datasets/Trainedmodelsandresults/Endo-STTN/SanityChecks/sttn_SanityCheck16/NS/ --frame /home/datasets/Hyper_Kvasir/Resized_Renamed_Images_withMasks/Data_NotCropped_usedForTrainingEndoSTTNoriginally/testFramesNS/hyperK_369/ --mask /home/datasets/Hyper_Kvasir/Resized_Renamed_Images_withMasks/Data_NotCropped_usedForTrainingEndoSTTNoriginally/testAnnot/hyperK_369/ --ckptpath /home/datasets/Trainedmodelsandresults/Endo-STTN/SanityChecks/sttn_SanityCheck16/ --ckptnumber 20\n",
      "python test-cycle.py --gpu 0 --NoMask --output /home/datasets/Trainedmodelsandresults/Endo-STTN/SanityChecks/sttn_SanityCheck16/NS/ --frame /home/datasets/Hyper_Kvasir/Resized_Renamed_Images_withMasks/Data_NotCropped_usedForTrainingEndoSTTNoriginally/testFramesNS/hyperK_362/ --mask /home/datasets/Hyper_Kvasir/Resized_Renamed_Images_withMasks/Data_NotCropped_usedForTrainingEndoSTTNoriginally/testAnnot/hyperK_362/ --ckptpath /home/datasets/Trainedmodelsandresults/Endo-STTN/SanityChecks/sttn_SanityCheck16/ --ckptnumber 20\n",
      "python test-cycle.py --gpu 0 --NoMask --output /home/datasets/Trainedmodelsandresults/Endo-STTN/SanityChecks/sttn_SanityCheck16/NS/ --frame /home/datasets/Hyper_Kvasir/Resized_Renamed_Images_withMasks/Data_NotCropped_usedForTrainingEndoSTTNoriginally/testFramesNS/hyperK_367/ --mask /home/datasets/Hyper_Kvasir/Resized_Renamed_Images_withMasks/Data_NotCropped_usedForTrainingEndoSTTNoriginally/testAnnot/hyperK_367/ --ckptpath /home/datasets/Trainedmodelsandresults/Endo-STTN/SanityChecks/sttn_SanityCheck16/ --ckptnumber 20\n",
      "python test-cycle.py --gpu 0 --NoMask --output /home/datasets/Trainedmodelsandresults/Endo-STTN/SanityChecks/sttn_SanityCheck16/NS/ --frame /home/datasets/Hyper_Kvasir/Resized_Renamed_Images_withMasks/Data_NotCropped_usedForTrainingEndoSTTNoriginally/testFramesNS/hyperK_355/ --mask /home/datasets/Hyper_Kvasir/Resized_Renamed_Images_withMasks/Data_NotCropped_usedForTrainingEndoSTTNoriginally/testAnnot/hyperK_355/ --ckptpath /home/datasets/Trainedmodelsandresults/Endo-STTN/SanityChecks/sttn_SanityCheck16/ --ckptnumber 20\n",
      "python test-cycle.py --gpu 0 --NoMask --output /home/datasets/Trainedmodelsandresults/Endo-STTN/SanityChecks/sttn_SanityCheck16/NS/ --frame /home/datasets/Hyper_Kvasir/Resized_Renamed_Images_withMasks/Data_NotCropped_usedForTrainingEndoSTTNoriginally/testFramesNS/hyperK_366/ --mask /home/datasets/Hyper_Kvasir/Resized_Renamed_Images_withMasks/Data_NotCropped_usedForTrainingEndoSTTNoriginally/testAnnot/hyperK_366/ --ckptpath /home/datasets/Trainedmodelsandresults/Endo-STTN/SanityChecks/sttn_SanityCheck16/ --ckptnumber 20\n",
      "python test-cycle.py --gpu 0 --NoMask --output /home/datasets/Trainedmodelsandresults/Endo-STTN/SanityChecks/sttn_SanityCheck16/NS/ --frame /home/datasets/Hyper_Kvasir/Resized_Renamed_Images_withMasks/Data_NotCropped_usedForTrainingEndoSTTNoriginally/testFramesNS/hyperK_361/ --mask /home/datasets/Hyper_Kvasir/Resized_Renamed_Images_withMasks/Data_NotCropped_usedForTrainingEndoSTTNoriginally/testAnnot/hyperK_361/ --ckptpath /home/datasets/Trainedmodelsandresults/Endo-STTN/SanityChecks/sttn_SanityCheck16/ --ckptnumber 20\n",
      "python test-cycle.py --gpu 0 --NoMask --output /home/datasets/Trainedmodelsandresults/Endo-STTN/SanityChecks/sttn_SanityCheck16/NS/ --frame /home/datasets/Hyper_Kvasir/Resized_Renamed_Images_withMasks/Data_NotCropped_usedForTrainingEndoSTTNoriginally/testFramesNS/hyperK_347/ --mask /home/datasets/Hyper_Kvasir/Resized_Renamed_Images_withMasks/Data_NotCropped_usedForTrainingEndoSTTNoriginally/testAnnot/hyperK_347/ --ckptpath /home/datasets/Trainedmodelsandresults/Endo-STTN/SanityChecks/sttn_SanityCheck16/ --ckptnumber 20\n",
      "python test-cycle.py --gpu 0 --NoMask --output /home/datasets/Trainedmodelsandresults/Endo-STTN/SanityChecks/sttn_SanityCheck16/NS/ --frame /home/datasets/Hyper_Kvasir/Resized_Renamed_Images_withMasks/Data_NotCropped_usedForTrainingEndoSTTNoriginally/testFramesNS/hyperK_348/ --mask /home/datasets/Hyper_Kvasir/Resized_Renamed_Images_withMasks/Data_NotCropped_usedForTrainingEndoSTTNoriginally/testAnnot/hyperK_348/ --ckptpath /home/datasets/Trainedmodelsandresults/Endo-STTN/SanityChecks/sttn_SanityCheck16/ --ckptnumber 20\n",
      "python test-cycle.py --gpu 0 --NoMask --output /home/datasets/Trainedmodelsandresults/Endo-STTN/SanityChecks/sttn_SanityCheck16/NS/ --frame /home/datasets/Hyper_Kvasir/Resized_Renamed_Images_withMasks/Data_NotCropped_usedForTrainingEndoSTTNoriginally/testFramesNS/hyperK_368/ --mask /home/datasets/Hyper_Kvasir/Resized_Renamed_Images_withMasks/Data_NotCropped_usedForTrainingEndoSTTNoriginally/testAnnot/hyperK_368/ --ckptpath /home/datasets/Trainedmodelsandresults/Endo-STTN/SanityChecks/sttn_SanityCheck16/ --ckptnumber 20\n",
      "python test-cycle.py --gpu 0 --NoMask --output /home/datasets/Trainedmodelsandresults/Endo-STTN/SanityChecks/sttn_SanityCheck16/NS/ --frame /home/datasets/Hyper_Kvasir/Resized_Renamed_Images_withMasks/Data_NotCropped_usedForTrainingEndoSTTNoriginally/testFramesNS/hyperK_363/ --mask /home/datasets/Hyper_Kvasir/Resized_Renamed_Images_withMasks/Data_NotCropped_usedForTrainingEndoSTTNoriginally/testAnnot/hyperK_363/ --ckptpath /home/datasets/Trainedmodelsandresults/Endo-STTN/SanityChecks/sttn_SanityCheck16/ --ckptnumber 20\n",
      "python test-cycle.py --gpu 0 --NoMask --output /home/datasets/Trainedmodelsandresults/Endo-STTN/SanityChecks/sttn_SanityCheck16/NS/ --frame /home/datasets/Hyper_Kvasir/Resized_Renamed_Images_withMasks/Data_NotCropped_usedForTrainingEndoSTTNoriginally/testFramesNS/hyperK_365/ --mask /home/datasets/Hyper_Kvasir/Resized_Renamed_Images_withMasks/Data_NotCropped_usedForTrainingEndoSTTNoriginally/testAnnot/hyperK_365/ --ckptpath /home/datasets/Trainedmodelsandresults/Endo-STTN/SanityChecks/sttn_SanityCheck16/ --ckptnumber 20\n",
      "python test-cycle.py --gpu 0 --NoMask --output /home/datasets/Trainedmodelsandresults/Endo-STTN/SanityChecks/sttn_SanityCheck16/NS/ --frame /home/datasets/Hyper_Kvasir/Resized_Renamed_Images_withMasks/Data_NotCropped_usedForTrainingEndoSTTNoriginally/testFramesNS/hyperK_360/ --mask /home/datasets/Hyper_Kvasir/Resized_Renamed_Images_withMasks/Data_NotCropped_usedForTrainingEndoSTTNoriginally/testAnnot/hyperK_360/ --ckptpath /home/datasets/Trainedmodelsandresults/Endo-STTN/SanityChecks/sttn_SanityCheck16/ --ckptnumber 20\n",
      "python test-cycle.py --gpu 0 --NoMask --output /home/datasets/Trainedmodelsandresults/Endo-STTN/SanityChecks/sttn_SanityCheck16/NS/ --frame /home/datasets/Hyper_Kvasir/Resized_Renamed_Images_withMasks/Data_NotCropped_usedForTrainingEndoSTTNoriginally/testFramesNS/hyperK_364/ --mask /home/datasets/Hyper_Kvasir/Resized_Renamed_Images_withMasks/Data_NotCropped_usedForTrainingEndoSTTNoriginally/testAnnot/hyperK_364/ --ckptpath /home/datasets/Trainedmodelsandresults/Endo-STTN/SanityChecks/sttn_SanityCheck16/ --ckptnumber 20\n",
      "python test-cycle.py --gpu 0 --NoMask --output /home/datasets/Trainedmodelsandresults/Endo-STTN/SanityChecks/sttn_SanityCheck16/NS/ --frame /home/datasets/Hyper_Kvasir/Resized_Renamed_Images_withMasks/Data_NotCropped_usedForTrainingEndoSTTNoriginally/testFramesNS/hyperK_350/ --mask /home/datasets/Hyper_Kvasir/Resized_Renamed_Images_withMasks/Data_NotCropped_usedForTrainingEndoSTTNoriginally/testAnnot/hyperK_350/ --ckptpath /home/datasets/Trainedmodelsandresults/Endo-STTN/SanityChecks/sttn_SanityCheck16/ --ckptnumber 20\n",
      "python test-cycle.py --gpu 0 --NoMask --output /home/datasets/Trainedmodelsandresults/Endo-STTN/SanityChecks/sttn_SanityCheck16/NS/ --frame /home/datasets/Hyper_Kvasir/Resized_Renamed_Images_withMasks/Data_NotCropped_usedForTrainingEndoSTTNoriginally/testFramesNS/hyperK_371/ --mask /home/datasets/Hyper_Kvasir/Resized_Renamed_Images_withMasks/Data_NotCropped_usedForTrainingEndoSTTNoriginally/testAnnot/hyperK_371/ --ckptpath /home/datasets/Trainedmodelsandresults/Endo-STTN/SanityChecks/sttn_SanityCheck16/ --ckptnumber 20\n",
      "python test-cycle.py --gpu 0 --NoMask --output /home/datasets/Trainedmodelsandresults/Endo-STTN/SanityChecks/sttn_SanityCheck16/NS/ --frame /home/datasets/Hyper_Kvasir/Resized_Renamed_Images_withMasks/Data_NotCropped_usedForTrainingEndoSTTNoriginally/testFramesNS/hyperK_357/ --mask /home/datasets/Hyper_Kvasir/Resized_Renamed_Images_withMasks/Data_NotCropped_usedForTrainingEndoSTTNoriginally/testAnnot/hyperK_357/ --ckptpath /home/datasets/Trainedmodelsandresults/Endo-STTN/SanityChecks/sttn_SanityCheck16/ --ckptnumber 20\n",
      "python test-cycle.py --gpu 0 --NoMask --output /home/datasets/Trainedmodelsandresults/Endo-STTN/SanityChecks/sttn_SanityCheck16/NS/ --frame /home/datasets/Hyper_Kvasir/Resized_Renamed_Images_withMasks/Data_NotCropped_usedForTrainingEndoSTTNoriginally/testFramesNS/hyperK_353/ --mask /home/datasets/Hyper_Kvasir/Resized_Renamed_Images_withMasks/Data_NotCropped_usedForTrainingEndoSTTNoriginally/testAnnot/hyperK_353/ --ckptpath /home/datasets/Trainedmodelsandresults/Endo-STTN/SanityChecks/sttn_SanityCheck16/ --ckptnumber 20\n",
      "python test-cycle.py --gpu 0 --NoMask --output /home/datasets/Trainedmodelsandresults/Endo-STTN/SanityChecks/sttn_SanityCheck16/NS/ --frame /home/datasets/Hyper_Kvasir/Resized_Renamed_Images_withMasks/Data_NotCropped_usedForTrainingEndoSTTNoriginally/testFramesNS/hyperK_356/ --mask /home/datasets/Hyper_Kvasir/Resized_Renamed_Images_withMasks/Data_NotCropped_usedForTrainingEndoSTTNoriginally/testAnnot/hyperK_356/ --ckptpath /home/datasets/Trainedmodelsandresults/Endo-STTN/SanityChecks/sttn_SanityCheck16/ --ckptnumber 20\n",
      "python test-cycle.py --gpu 0 --NoMask --output /home/datasets/Trainedmodelsandresults/Endo-STTN/SanityChecks/sttn_SanityCheck16/NS/ --frame /home/datasets/Hyper_Kvasir/Resized_Renamed_Images_withMasks/Data_NotCropped_usedForTrainingEndoSTTNoriginally/testFramesNS/hyperK_352/ --mask /home/datasets/Hyper_Kvasir/Resized_Renamed_Images_withMasks/Data_NotCropped_usedForTrainingEndoSTTNoriginally/testAnnot/hyperK_352/ --ckptpath /home/datasets/Trainedmodelsandresults/Endo-STTN/SanityChecks/sttn_SanityCheck16/ --ckptnumber 20\n",
      "python test-cycle.py --gpu 0 --NoMask --output /home/datasets/Trainedmodelsandresults/Endo-STTN/SanityChecks/sttn_SanityCheck16/NS/ --frame /home/datasets/Hyper_Kvasir/Resized_Renamed_Images_withMasks/Data_NotCropped_usedForTrainingEndoSTTNoriginally/testFramesNS/hyperK_344/ --mask /home/datasets/Hyper_Kvasir/Resized_Renamed_Images_withMasks/Data_NotCropped_usedForTrainingEndoSTTNoriginally/testAnnot/hyperK_344/ --ckptpath /home/datasets/Trainedmodelsandresults/Endo-STTN/SanityChecks/sttn_SanityCheck16/ --ckptnumber 20\n",
      "python test-cycle.py --gpu 0 --NoMask --output /home/datasets/Trainedmodelsandresults/Endo-STTN/SanityChecks/sttn_SanityCheck16/NS/ --frame /home/datasets/Hyper_Kvasir/Resized_Renamed_Images_withMasks/Data_NotCropped_usedForTrainingEndoSTTNoriginally/testFramesNS/hyperK_358/ --mask /home/datasets/Hyper_Kvasir/Resized_Renamed_Images_withMasks/Data_NotCropped_usedForTrainingEndoSTTNoriginally/testAnnot/hyperK_358/ --ckptpath /home/datasets/Trainedmodelsandresults/Endo-STTN/SanityChecks/sttn_SanityCheck16/ --ckptnumber 20\n",
      "python test-cycle.py --gpu 0 --NoMask --output /home/datasets/Trainedmodelsandresults/Endo-STTN/SanityChecks/sttn_SanityCheck16/NS/ --frame /home/datasets/Hyper_Kvasir/Resized_Renamed_Images_withMasks/Data_NotCropped_usedForTrainingEndoSTTNoriginally/testFramesNS/hyperK_345/ --mask /home/datasets/Hyper_Kvasir/Resized_Renamed_Images_withMasks/Data_NotCropped_usedForTrainingEndoSTTNoriginally/testAnnot/hyperK_345/ --ckptpath /home/datasets/Trainedmodelsandresults/Endo-STTN/SanityChecks/sttn_SanityCheck16/ --ckptnumber 20\n",
      "python test-cycle.py --gpu 0 --NoMask --output /home/datasets/Trainedmodelsandresults/Endo-STTN/SanityChecks/sttn_SanityCheck16/NS/ --frame /home/datasets/Hyper_Kvasir/Resized_Renamed_Images_withMasks/Data_NotCropped_usedForTrainingEndoSTTNoriginally/testFramesNS/hyperK_346/ --mask /home/datasets/Hyper_Kvasir/Resized_Renamed_Images_withMasks/Data_NotCropped_usedForTrainingEndoSTTNoriginally/testAnnot/hyperK_346/ --ckptpath /home/datasets/Trainedmodelsandresults/Endo-STTN/SanityChecks/sttn_SanityCheck16/ --ckptnumber 20\n",
      "python test-cycle.py --gpu 0 --NoMask --output /home/datasets/Trainedmodelsandresults/Endo-STTN/SanityChecks/sttn_SanityCheck16/NS/ --frame /home/datasets/Hyper_Kvasir/Resized_Renamed_Images_withMasks/Data_NotCropped_usedForTrainingEndoSTTNoriginally/testFramesNS/hyperK_343/ --mask /home/datasets/Hyper_Kvasir/Resized_Renamed_Images_withMasks/Data_NotCropped_usedForTrainingEndoSTTNoriginally/testAnnot/hyperK_343/ --ckptpath /home/datasets/Trainedmodelsandresults/Endo-STTN/SanityChecks/sttn_SanityCheck16/ --ckptnumber 20\n",
      "python test-cycle.py --gpu 0 --NoMask --output /home/datasets/Trainedmodelsandresults/Endo-STTN/SanityChecks/sttn_SanityCheck16/NS/ --frame /home/datasets/Hyper_Kvasir/Resized_Renamed_Images_withMasks/Data_NotCropped_usedForTrainingEndoSTTNoriginally/testFramesNS/hyperK_354/ --mask /home/datasets/Hyper_Kvasir/Resized_Renamed_Images_withMasks/Data_NotCropped_usedForTrainingEndoSTTNoriginally/testAnnot/hyperK_354/ --ckptpath /home/datasets/Trainedmodelsandresults/Endo-STTN/SanityChecks/sttn_SanityCheck16/ --ckptnumber 20\n",
      "python test-cycle.py --gpu 0 --NoMask --output /home/datasets/Trainedmodelsandresults/Endo-STTN/SanityChecks/sttn_SanityCheck16/NS/ --frame /home/datasets/Hyper_Kvasir/Resized_Renamed_Images_withMasks/Data_NotCropped_usedForTrainingEndoSTTNoriginally/testFramesNS/hyperK_349/ --mask /home/datasets/Hyper_Kvasir/Resized_Renamed_Images_withMasks/Data_NotCropped_usedForTrainingEndoSTTNoriginally/testAnnot/hyperK_349/ --ckptpath /home/datasets/Trainedmodelsandresults/Endo-STTN/SanityChecks/sttn_SanityCheck16/ --ckptnumber 20\n",
      "python test-cycle.py --gpu 0 --NoMask --output /home/datasets/Trainedmodelsandresults/Endo-STTN/SanityChecks/sttn_SanityCheck16/NS/ --frame /home/datasets/Hyper_Kvasir/Resized_Renamed_Images_withMasks/Data_NotCropped_usedForTrainingEndoSTTNoriginally/testFramesNS/hyperK_372/ --mask /home/datasets/Hyper_Kvasir/Resized_Renamed_Images_withMasks/Data_NotCropped_usedForTrainingEndoSTTNoriginally/testAnnot/hyperK_372/ --ckptpath /home/datasets/Trainedmodelsandresults/Endo-STTN/SanityChecks/sttn_SanityCheck16/ --ckptnumber 20\n",
      "python test-cycle.py --gpu 0 --NoMask --output /home/datasets/Trainedmodelsandresults/Endo-STTN/SanityChecks/sttn_SanityCheck16/NS/ --frame /home/datasets/Hyper_Kvasir/Resized_Renamed_Images_withMasks/Data_NotCropped_usedForTrainingEndoSTTNoriginally/testFramesNS/hyperK_370/ --mask /home/datasets/Hyper_Kvasir/Resized_Renamed_Images_withMasks/Data_NotCropped_usedForTrainingEndoSTTNoriginally/testAnnot/hyperK_370/ --ckptpath /home/datasets/Trainedmodelsandresults/Endo-STTN/SanityChecks/sttn_SanityCheck16/ --ckptnumber 20\n"
     ]
    }
   ],
   "source": [
    "#CycleSTTN\n",
    "import glob\n",
    "import os\n",
    "os.chdir(\"/home/rdaher/workspace/phd-work/Endo-STTN/\")\n",
    "for videoDir in glob.glob(\"/home/datasets/Hyper_Kvasir/Resized_Renamed_Images_withMasks/Data_NotCropped_usedForTrainingEndoSTTNoriginally/testFramesNS/*\"):\n",
    "    videoName = os.path.basename(videoDir)\n",
    "    cmd = [\"python test-cycle.py --gpu 0 \" +\n",
    "        \"--NoMask --output /home/datasets/Trainedmodelsandresults/Endo-STTN/SanityChecks/sttn_SanityCheck16/NS/ \" +\n",
    "        \"--frame /home/datasets/Hyper_Kvasir/Resized_Renamed_Images_withMasks/Data_NotCropped_usedForTrainingEndoSTTNoriginally/testFramesNS/\"+videoName+\"/ \" +\n",
    "        \"--mask /home/datasets/Hyper_Kvasir/Resized_Renamed_Images_withMasks/Data_NotCropped_usedForTrainingEndoSTTNoriginally/testAnnot/\"+videoName+\"/ \" +\n",
    "        \"--ckptpath /home/datasets/Trainedmodelsandresults/Endo-STTN/SanityChecks/sttn_SanityCheck16/ \" +\n",
    "        \"--ckptnumber 20\"][0]\n",
    "    print(cmd)\n",
    "    os.system(cmd)"
   ]
  },
  {
   "cell_type": "code",
   "execution_count": 1,
   "metadata": {},
   "outputs": [
    {
     "name": "stdout",
     "output_type": "stream",
     "text": [
      "python test-cycle-notemp-v3.py --gpu 4 --NoMask --output /home/datasets/Trainedmodelsandresults/Endo-STTN/SanityChecks/sttn_SanityCheck16/NS/NoTemporalv3/ --frame /home/datasets/Hyper_Kvasir/Resized_Renamed_Images_withMasks/Data_NotCropped_usedForTrainingEndoSTTNoriginally/testFramesNS/ --mask /home/datasets/Hyper_Kvasir/Resized_Renamed_Images_withMasks/Data_NotCropped_usedForTrainingEndoSTTNoriginally/testAnnot/ --ckptpath /home/datasets/Trainedmodelsandresults/Endo-STTN/SanityChecks/sttn_SanityCheck16/ --ckptnumber 20\n"
     ]
    }
   ],
   "source": [
    "#no temporal CycleSTTN\n",
    "import glob\n",
    "import os\n",
    "os.chdir(\"/home/rdaher/workspace/phd-work/Endo-STTN/\")\n",
    "cmd = [\"python test-cycle-notemp-v3.py --gpu 4 \" +\n",
    "    \"--NoMask --output /home/datasets/Trainedmodelsandresults/Endo-STTN/SanityChecks/sttn_SanityCheck16/NS/NoTemporalv3/ \" +\n",
    "    \"--frame /home/datasets/Hyper_Kvasir/Resized_Renamed_Images_withMasks/Data_NotCropped_usedForTrainingEndoSTTNoriginally/testFramesNS/ \" +\n",
    "    \"--mask /home/datasets/Hyper_Kvasir/Resized_Renamed_Images_withMasks/Data_NotCropped_usedForTrainingEndoSTTNoriginally/testAnnot/ \" +\n",
    "    \"--ckptpath /home/datasets/Trainedmodelsandresults/Endo-STTN/SanityChecks/sttn_SanityCheck16/ \" +\n",
    "    \"--ckptnumber 20\"][0]\n",
    "print(cmd)\n",
    "os.system(cmd)"
   ]
  },
  {
   "cell_type": "code",
   "execution_count": 1,
   "metadata": {},
   "outputs": [],
   "source": [
    "## VERY SLOWWW\n",
    "# #no temporal CycleSTTN\n",
    "# import glob\n",
    "# import os\n",
    "# os.chdir(\"/home/rdaher/workspace/phd-work/Endo-STTN/\")\n",
    "# list_out = []\n",
    "# videoNames=[f'hyperK_{i}' for i in range(343, 373)]\n",
    "# Method  = \"/home/datasets/Trainedmodelsandresults/Endo-STTN/SanityChecks/sttn_SanityCheck16/\"\n",
    "# output = Method + \"NS/notemporal/\"\n",
    "\n",
    "# for videoName in videoNames:\n",
    "#     FramesPath=glob.glob(\"/home/datasets/Hyper_Kvasir/Resized_Renamed_Images_withMasks/Data_NotCropped_usedForTrainingEndoSTTNoriginally/testFramesNS/\"+videoName+\"/*.jpg\")\n",
    "#     for FramePath in FramesPath:\n",
    "#         FrameName=os.path.basename(FramePath)\n",
    "#         filename, file_extension = os.path.splitext(FrameName)\n",
    "\n",
    "#         if int(filename)<927:\n",
    "#             out_str = [\"python test-cycle-notemp.py --gpu 0 \" +\n",
    "#                 \" --NoMask --output \" + output +\"/\" +\n",
    "#                 \" --frame /home/datasets/Hyper_Kvasir/Resized_Renamed_Images_withMasks/Data_NotCropped_usedForTrainingEndoSTTNoriginally/testFramesNS/\"+videoName +\"/\"+FrameName+\n",
    "#                 \" --mask /home/datasets/Hyper_Kvasir/Resized_Renamed_Images_withMasks/Data_NotCropped_usedForTrainingEndoSTTNoriginally/testAnnot/\"+videoName +\"/\"+FrameName+\n",
    "#                 \" --ckptpath \" + Method +\n",
    "#                 \" --ckptnumber 20\"][0]\n",
    "#             list_out = list_out + [out_str]\n",
    "\n",
    "# # for i in range(len(FramesPath)):\n",
    "# #     print(list_out[i])\n",
    "# #     os.system(list_out[i])\n",
    "\n",
    "# import pandas as pd\n",
    "# pd.DataFrame(list_out).to_csv(r'runResults-NoTemporalCycleSTTN.sh', header=None, index=None, sep=',', mode='a') \n",
    "# #then run bash script"
   ]
  },
  {
   "cell_type": "code",
   "execution_count": 1,
   "metadata": {},
   "outputs": [
    {
     "name": "stdout",
     "output_type": "stream",
     "text": [
      "python test.py --gpu 0  --output /home/datasets/Trainedmodelsandresults/Endo-STTN/release_model/sttn_hyper-kvasir-Addingspec-GTdata/NS/  --frame /home/datasets/Hyper_Kvasir/Resized_Renamed_Images_withMasks/Data_NotCropped_usedForTrainingEndoSTTNoriginally/testFramesNS/hyperK_351/  --mask /home/datasets/Hyper_Kvasir/Resized_Renamed_Images_withMasks/Data_NotCropped_usedForTrainingEndoSTTNoriginally/testAnnot/hyperK_351/  -c /home/datasets/Trainedmodelsandresults/Endo-STTN/release_model/sttn_hyper-kvasir-Addingspec-GTdata/  -cn 3  --nomask\n",
      "python test.py --gpu 0  --output /home/datasets/Trainedmodelsandresults/Endo-STTN/release_model/sttn_hyper-kvasir-Addingspec-GTdata/NS/  --frame /home/datasets/Hyper_Kvasir/Resized_Renamed_Images_withMasks/Data_NotCropped_usedForTrainingEndoSTTNoriginally/testFramesNS/hyperK_359/  --mask /home/datasets/Hyper_Kvasir/Resized_Renamed_Images_withMasks/Data_NotCropped_usedForTrainingEndoSTTNoriginally/testAnnot/hyperK_359/  -c /home/datasets/Trainedmodelsandresults/Endo-STTN/release_model/sttn_hyper-kvasir-Addingspec-GTdata/  -cn 3  --nomask\n",
      "python test.py --gpu 0  --output /home/datasets/Trainedmodelsandresults/Endo-STTN/release_model/sttn_hyper-kvasir-Addingspec-GTdata/NS/  --frame /home/datasets/Hyper_Kvasir/Resized_Renamed_Images_withMasks/Data_NotCropped_usedForTrainingEndoSTTNoriginally/testFramesNS/hyperK_369/  --mask /home/datasets/Hyper_Kvasir/Resized_Renamed_Images_withMasks/Data_NotCropped_usedForTrainingEndoSTTNoriginally/testAnnot/hyperK_369/  -c /home/datasets/Trainedmodelsandresults/Endo-STTN/release_model/sttn_hyper-kvasir-Addingspec-GTdata/  -cn 3  --nomask\n",
      "python test.py --gpu 0  --output /home/datasets/Trainedmodelsandresults/Endo-STTN/release_model/sttn_hyper-kvasir-Addingspec-GTdata/NS/  --frame /home/datasets/Hyper_Kvasir/Resized_Renamed_Images_withMasks/Data_NotCropped_usedForTrainingEndoSTTNoriginally/testFramesNS/hyperK_362/  --mask /home/datasets/Hyper_Kvasir/Resized_Renamed_Images_withMasks/Data_NotCropped_usedForTrainingEndoSTTNoriginally/testAnnot/hyperK_362/  -c /home/datasets/Trainedmodelsandresults/Endo-STTN/release_model/sttn_hyper-kvasir-Addingspec-GTdata/  -cn 3  --nomask\n",
      "python test.py --gpu 0  --output /home/datasets/Trainedmodelsandresults/Endo-STTN/release_model/sttn_hyper-kvasir-Addingspec-GTdata/NS/  --frame /home/datasets/Hyper_Kvasir/Resized_Renamed_Images_withMasks/Data_NotCropped_usedForTrainingEndoSTTNoriginally/testFramesNS/hyperK_367/  --mask /home/datasets/Hyper_Kvasir/Resized_Renamed_Images_withMasks/Data_NotCropped_usedForTrainingEndoSTTNoriginally/testAnnot/hyperK_367/  -c /home/datasets/Trainedmodelsandresults/Endo-STTN/release_model/sttn_hyper-kvasir-Addingspec-GTdata/  -cn 3  --nomask\n",
      "python test.py --gpu 0  --output /home/datasets/Trainedmodelsandresults/Endo-STTN/release_model/sttn_hyper-kvasir-Addingspec-GTdata/NS/  --frame /home/datasets/Hyper_Kvasir/Resized_Renamed_Images_withMasks/Data_NotCropped_usedForTrainingEndoSTTNoriginally/testFramesNS/hyperK_355/  --mask /home/datasets/Hyper_Kvasir/Resized_Renamed_Images_withMasks/Data_NotCropped_usedForTrainingEndoSTTNoriginally/testAnnot/hyperK_355/  -c /home/datasets/Trainedmodelsandresults/Endo-STTN/release_model/sttn_hyper-kvasir-Addingspec-GTdata/  -cn 3  --nomask\n",
      "python test.py --gpu 0  --output /home/datasets/Trainedmodelsandresults/Endo-STTN/release_model/sttn_hyper-kvasir-Addingspec-GTdata/NS/  --frame /home/datasets/Hyper_Kvasir/Resized_Renamed_Images_withMasks/Data_NotCropped_usedForTrainingEndoSTTNoriginally/testFramesNS/hyperK_366/  --mask /home/datasets/Hyper_Kvasir/Resized_Renamed_Images_withMasks/Data_NotCropped_usedForTrainingEndoSTTNoriginally/testAnnot/hyperK_366/  -c /home/datasets/Trainedmodelsandresults/Endo-STTN/release_model/sttn_hyper-kvasir-Addingspec-GTdata/  -cn 3  --nomask\n",
      "python test.py --gpu 0  --output /home/datasets/Trainedmodelsandresults/Endo-STTN/release_model/sttn_hyper-kvasir-Addingspec-GTdata/NS/  --frame /home/datasets/Hyper_Kvasir/Resized_Renamed_Images_withMasks/Data_NotCropped_usedForTrainingEndoSTTNoriginally/testFramesNS/hyperK_361/  --mask /home/datasets/Hyper_Kvasir/Resized_Renamed_Images_withMasks/Data_NotCropped_usedForTrainingEndoSTTNoriginally/testAnnot/hyperK_361/  -c /home/datasets/Trainedmodelsandresults/Endo-STTN/release_model/sttn_hyper-kvasir-Addingspec-GTdata/  -cn 3  --nomask\n",
      "python test.py --gpu 0  --output /home/datasets/Trainedmodelsandresults/Endo-STTN/release_model/sttn_hyper-kvasir-Addingspec-GTdata/NS/  --frame /home/datasets/Hyper_Kvasir/Resized_Renamed_Images_withMasks/Data_NotCropped_usedForTrainingEndoSTTNoriginally/testFramesNS/hyperK_347/  --mask /home/datasets/Hyper_Kvasir/Resized_Renamed_Images_withMasks/Data_NotCropped_usedForTrainingEndoSTTNoriginally/testAnnot/hyperK_347/  -c /home/datasets/Trainedmodelsandresults/Endo-STTN/release_model/sttn_hyper-kvasir-Addingspec-GTdata/  -cn 3  --nomask\n",
      "python test.py --gpu 0  --output /home/datasets/Trainedmodelsandresults/Endo-STTN/release_model/sttn_hyper-kvasir-Addingspec-GTdata/NS/  --frame /home/datasets/Hyper_Kvasir/Resized_Renamed_Images_withMasks/Data_NotCropped_usedForTrainingEndoSTTNoriginally/testFramesNS/hyperK_348/  --mask /home/datasets/Hyper_Kvasir/Resized_Renamed_Images_withMasks/Data_NotCropped_usedForTrainingEndoSTTNoriginally/testAnnot/hyperK_348/  -c /home/datasets/Trainedmodelsandresults/Endo-STTN/release_model/sttn_hyper-kvasir-Addingspec-GTdata/  -cn 3  --nomask\n",
      "python test.py --gpu 0  --output /home/datasets/Trainedmodelsandresults/Endo-STTN/release_model/sttn_hyper-kvasir-Addingspec-GTdata/NS/  --frame /home/datasets/Hyper_Kvasir/Resized_Renamed_Images_withMasks/Data_NotCropped_usedForTrainingEndoSTTNoriginally/testFramesNS/hyperK_368/  --mask /home/datasets/Hyper_Kvasir/Resized_Renamed_Images_withMasks/Data_NotCropped_usedForTrainingEndoSTTNoriginally/testAnnot/hyperK_368/  -c /home/datasets/Trainedmodelsandresults/Endo-STTN/release_model/sttn_hyper-kvasir-Addingspec-GTdata/  -cn 3  --nomask\n",
      "python test.py --gpu 0  --output /home/datasets/Trainedmodelsandresults/Endo-STTN/release_model/sttn_hyper-kvasir-Addingspec-GTdata/NS/  --frame /home/datasets/Hyper_Kvasir/Resized_Renamed_Images_withMasks/Data_NotCropped_usedForTrainingEndoSTTNoriginally/testFramesNS/hyperK_363/  --mask /home/datasets/Hyper_Kvasir/Resized_Renamed_Images_withMasks/Data_NotCropped_usedForTrainingEndoSTTNoriginally/testAnnot/hyperK_363/  -c /home/datasets/Trainedmodelsandresults/Endo-STTN/release_model/sttn_hyper-kvasir-Addingspec-GTdata/  -cn 3  --nomask\n",
      "python test.py --gpu 0  --output /home/datasets/Trainedmodelsandresults/Endo-STTN/release_model/sttn_hyper-kvasir-Addingspec-GTdata/NS/  --frame /home/datasets/Hyper_Kvasir/Resized_Renamed_Images_withMasks/Data_NotCropped_usedForTrainingEndoSTTNoriginally/testFramesNS/hyperK_365/  --mask /home/datasets/Hyper_Kvasir/Resized_Renamed_Images_withMasks/Data_NotCropped_usedForTrainingEndoSTTNoriginally/testAnnot/hyperK_365/  -c /home/datasets/Trainedmodelsandresults/Endo-STTN/release_model/sttn_hyper-kvasir-Addingspec-GTdata/  -cn 3  --nomask\n",
      "python test.py --gpu 0  --output /home/datasets/Trainedmodelsandresults/Endo-STTN/release_model/sttn_hyper-kvasir-Addingspec-GTdata/NS/  --frame /home/datasets/Hyper_Kvasir/Resized_Renamed_Images_withMasks/Data_NotCropped_usedForTrainingEndoSTTNoriginally/testFramesNS/hyperK_360/  --mask /home/datasets/Hyper_Kvasir/Resized_Renamed_Images_withMasks/Data_NotCropped_usedForTrainingEndoSTTNoriginally/testAnnot/hyperK_360/  -c /home/datasets/Trainedmodelsandresults/Endo-STTN/release_model/sttn_hyper-kvasir-Addingspec-GTdata/  -cn 3  --nomask\n",
      "python test.py --gpu 0  --output /home/datasets/Trainedmodelsandresults/Endo-STTN/release_model/sttn_hyper-kvasir-Addingspec-GTdata/NS/  --frame /home/datasets/Hyper_Kvasir/Resized_Renamed_Images_withMasks/Data_NotCropped_usedForTrainingEndoSTTNoriginally/testFramesNS/hyperK_364/  --mask /home/datasets/Hyper_Kvasir/Resized_Renamed_Images_withMasks/Data_NotCropped_usedForTrainingEndoSTTNoriginally/testAnnot/hyperK_364/  -c /home/datasets/Trainedmodelsandresults/Endo-STTN/release_model/sttn_hyper-kvasir-Addingspec-GTdata/  -cn 3  --nomask\n",
      "python test.py --gpu 0  --output /home/datasets/Trainedmodelsandresults/Endo-STTN/release_model/sttn_hyper-kvasir-Addingspec-GTdata/NS/  --frame /home/datasets/Hyper_Kvasir/Resized_Renamed_Images_withMasks/Data_NotCropped_usedForTrainingEndoSTTNoriginally/testFramesNS/hyperK_350/  --mask /home/datasets/Hyper_Kvasir/Resized_Renamed_Images_withMasks/Data_NotCropped_usedForTrainingEndoSTTNoriginally/testAnnot/hyperK_350/  -c /home/datasets/Trainedmodelsandresults/Endo-STTN/release_model/sttn_hyper-kvasir-Addingspec-GTdata/  -cn 3  --nomask\n",
      "python test.py --gpu 0  --output /home/datasets/Trainedmodelsandresults/Endo-STTN/release_model/sttn_hyper-kvasir-Addingspec-GTdata/NS/  --frame /home/datasets/Hyper_Kvasir/Resized_Renamed_Images_withMasks/Data_NotCropped_usedForTrainingEndoSTTNoriginally/testFramesNS/hyperK_371/  --mask /home/datasets/Hyper_Kvasir/Resized_Renamed_Images_withMasks/Data_NotCropped_usedForTrainingEndoSTTNoriginally/testAnnot/hyperK_371/  -c /home/datasets/Trainedmodelsandresults/Endo-STTN/release_model/sttn_hyper-kvasir-Addingspec-GTdata/  -cn 3  --nomask\n",
      "python test.py --gpu 0  --output /home/datasets/Trainedmodelsandresults/Endo-STTN/release_model/sttn_hyper-kvasir-Addingspec-GTdata/NS/  --frame /home/datasets/Hyper_Kvasir/Resized_Renamed_Images_withMasks/Data_NotCropped_usedForTrainingEndoSTTNoriginally/testFramesNS/hyperK_357/  --mask /home/datasets/Hyper_Kvasir/Resized_Renamed_Images_withMasks/Data_NotCropped_usedForTrainingEndoSTTNoriginally/testAnnot/hyperK_357/  -c /home/datasets/Trainedmodelsandresults/Endo-STTN/release_model/sttn_hyper-kvasir-Addingspec-GTdata/  -cn 3  --nomask\n",
      "python test.py --gpu 0  --output /home/datasets/Trainedmodelsandresults/Endo-STTN/release_model/sttn_hyper-kvasir-Addingspec-GTdata/NS/  --frame /home/datasets/Hyper_Kvasir/Resized_Renamed_Images_withMasks/Data_NotCropped_usedForTrainingEndoSTTNoriginally/testFramesNS/hyperK_353/  --mask /home/datasets/Hyper_Kvasir/Resized_Renamed_Images_withMasks/Data_NotCropped_usedForTrainingEndoSTTNoriginally/testAnnot/hyperK_353/  -c /home/datasets/Trainedmodelsandresults/Endo-STTN/release_model/sttn_hyper-kvasir-Addingspec-GTdata/  -cn 3  --nomask\n",
      "python test.py --gpu 0  --output /home/datasets/Trainedmodelsandresults/Endo-STTN/release_model/sttn_hyper-kvasir-Addingspec-GTdata/NS/  --frame /home/datasets/Hyper_Kvasir/Resized_Renamed_Images_withMasks/Data_NotCropped_usedForTrainingEndoSTTNoriginally/testFramesNS/hyperK_356/  --mask /home/datasets/Hyper_Kvasir/Resized_Renamed_Images_withMasks/Data_NotCropped_usedForTrainingEndoSTTNoriginally/testAnnot/hyperK_356/  -c /home/datasets/Trainedmodelsandresults/Endo-STTN/release_model/sttn_hyper-kvasir-Addingspec-GTdata/  -cn 3  --nomask\n",
      "python test.py --gpu 0  --output /home/datasets/Trainedmodelsandresults/Endo-STTN/release_model/sttn_hyper-kvasir-Addingspec-GTdata/NS/  --frame /home/datasets/Hyper_Kvasir/Resized_Renamed_Images_withMasks/Data_NotCropped_usedForTrainingEndoSTTNoriginally/testFramesNS/hyperK_352/  --mask /home/datasets/Hyper_Kvasir/Resized_Renamed_Images_withMasks/Data_NotCropped_usedForTrainingEndoSTTNoriginally/testAnnot/hyperK_352/  -c /home/datasets/Trainedmodelsandresults/Endo-STTN/release_model/sttn_hyper-kvasir-Addingspec-GTdata/  -cn 3  --nomask\n",
      "python test.py --gpu 0  --output /home/datasets/Trainedmodelsandresults/Endo-STTN/release_model/sttn_hyper-kvasir-Addingspec-GTdata/NS/  --frame /home/datasets/Hyper_Kvasir/Resized_Renamed_Images_withMasks/Data_NotCropped_usedForTrainingEndoSTTNoriginally/testFramesNS/hyperK_344/  --mask /home/datasets/Hyper_Kvasir/Resized_Renamed_Images_withMasks/Data_NotCropped_usedForTrainingEndoSTTNoriginally/testAnnot/hyperK_344/  -c /home/datasets/Trainedmodelsandresults/Endo-STTN/release_model/sttn_hyper-kvasir-Addingspec-GTdata/  -cn 3  --nomask\n",
      "python test.py --gpu 0  --output /home/datasets/Trainedmodelsandresults/Endo-STTN/release_model/sttn_hyper-kvasir-Addingspec-GTdata/NS/  --frame /home/datasets/Hyper_Kvasir/Resized_Renamed_Images_withMasks/Data_NotCropped_usedForTrainingEndoSTTNoriginally/testFramesNS/hyperK_358/  --mask /home/datasets/Hyper_Kvasir/Resized_Renamed_Images_withMasks/Data_NotCropped_usedForTrainingEndoSTTNoriginally/testAnnot/hyperK_358/  -c /home/datasets/Trainedmodelsandresults/Endo-STTN/release_model/sttn_hyper-kvasir-Addingspec-GTdata/  -cn 3  --nomask\n",
      "python test.py --gpu 0  --output /home/datasets/Trainedmodelsandresults/Endo-STTN/release_model/sttn_hyper-kvasir-Addingspec-GTdata/NS/  --frame /home/datasets/Hyper_Kvasir/Resized_Renamed_Images_withMasks/Data_NotCropped_usedForTrainingEndoSTTNoriginally/testFramesNS/hyperK_345/  --mask /home/datasets/Hyper_Kvasir/Resized_Renamed_Images_withMasks/Data_NotCropped_usedForTrainingEndoSTTNoriginally/testAnnot/hyperK_345/  -c /home/datasets/Trainedmodelsandresults/Endo-STTN/release_model/sttn_hyper-kvasir-Addingspec-GTdata/  -cn 3  --nomask\n",
      "python test.py --gpu 0  --output /home/datasets/Trainedmodelsandresults/Endo-STTN/release_model/sttn_hyper-kvasir-Addingspec-GTdata/NS/  --frame /home/datasets/Hyper_Kvasir/Resized_Renamed_Images_withMasks/Data_NotCropped_usedForTrainingEndoSTTNoriginally/testFramesNS/hyperK_346/  --mask /home/datasets/Hyper_Kvasir/Resized_Renamed_Images_withMasks/Data_NotCropped_usedForTrainingEndoSTTNoriginally/testAnnot/hyperK_346/  -c /home/datasets/Trainedmodelsandresults/Endo-STTN/release_model/sttn_hyper-kvasir-Addingspec-GTdata/  -cn 3  --nomask\n",
      "python test.py --gpu 0  --output /home/datasets/Trainedmodelsandresults/Endo-STTN/release_model/sttn_hyper-kvasir-Addingspec-GTdata/NS/  --frame /home/datasets/Hyper_Kvasir/Resized_Renamed_Images_withMasks/Data_NotCropped_usedForTrainingEndoSTTNoriginally/testFramesNS/hyperK_343/  --mask /home/datasets/Hyper_Kvasir/Resized_Renamed_Images_withMasks/Data_NotCropped_usedForTrainingEndoSTTNoriginally/testAnnot/hyperK_343/  -c /home/datasets/Trainedmodelsandresults/Endo-STTN/release_model/sttn_hyper-kvasir-Addingspec-GTdata/  -cn 3  --nomask\n",
      "python test.py --gpu 0  --output /home/datasets/Trainedmodelsandresults/Endo-STTN/release_model/sttn_hyper-kvasir-Addingspec-GTdata/NS/  --frame /home/datasets/Hyper_Kvasir/Resized_Renamed_Images_withMasks/Data_NotCropped_usedForTrainingEndoSTTNoriginally/testFramesNS/hyperK_354/  --mask /home/datasets/Hyper_Kvasir/Resized_Renamed_Images_withMasks/Data_NotCropped_usedForTrainingEndoSTTNoriginally/testAnnot/hyperK_354/  -c /home/datasets/Trainedmodelsandresults/Endo-STTN/release_model/sttn_hyper-kvasir-Addingspec-GTdata/  -cn 3  --nomask\n",
      "python test.py --gpu 0  --output /home/datasets/Trainedmodelsandresults/Endo-STTN/release_model/sttn_hyper-kvasir-Addingspec-GTdata/NS/  --frame /home/datasets/Hyper_Kvasir/Resized_Renamed_Images_withMasks/Data_NotCropped_usedForTrainingEndoSTTNoriginally/testFramesNS/hyperK_349/  --mask /home/datasets/Hyper_Kvasir/Resized_Renamed_Images_withMasks/Data_NotCropped_usedForTrainingEndoSTTNoriginally/testAnnot/hyperK_349/  -c /home/datasets/Trainedmodelsandresults/Endo-STTN/release_model/sttn_hyper-kvasir-Addingspec-GTdata/  -cn 3  --nomask\n",
      "python test.py --gpu 0  --output /home/datasets/Trainedmodelsandresults/Endo-STTN/release_model/sttn_hyper-kvasir-Addingspec-GTdata/NS/  --frame /home/datasets/Hyper_Kvasir/Resized_Renamed_Images_withMasks/Data_NotCropped_usedForTrainingEndoSTTNoriginally/testFramesNS/hyperK_372/  --mask /home/datasets/Hyper_Kvasir/Resized_Renamed_Images_withMasks/Data_NotCropped_usedForTrainingEndoSTTNoriginally/testAnnot/hyperK_372/  -c /home/datasets/Trainedmodelsandresults/Endo-STTN/release_model/sttn_hyper-kvasir-Addingspec-GTdata/  -cn 3  --nomask\n",
      "python test.py --gpu 0  --output /home/datasets/Trainedmodelsandresults/Endo-STTN/release_model/sttn_hyper-kvasir-Addingspec-GTdata/NS/  --frame /home/datasets/Hyper_Kvasir/Resized_Renamed_Images_withMasks/Data_NotCropped_usedForTrainingEndoSTTNoriginally/testFramesNS/hyperK_370/  --mask /home/datasets/Hyper_Kvasir/Resized_Renamed_Images_withMasks/Data_NotCropped_usedForTrainingEndoSTTNoriginally/testAnnot/hyperK_370/  -c /home/datasets/Trainedmodelsandresults/Endo-STTN/release_model/sttn_hyper-kvasir-Addingspec-GTdata/  -cn 3  --nomask\n"
     ]
    }
   ],
   "source": [
    "#STTN\n",
    "import glob\n",
    "import os\n",
    "os.chdir(\"/home/rdaher/workspace/phd-work/Endo-STTN/\")\n",
    "for videoDir in glob.glob(\"/home/datasets/Hyper_Kvasir/Resized_Renamed_Images_withMasks/Data_NotCropped_usedForTrainingEndoSTTNoriginally/testFramesNS/*\"):\n",
    "    videoName = os.path.basename(videoDir)\n",
    "    cmd = [\"python test.py --gpu 0 \" +\n",
    "        \" --output /home/datasets/Trainedmodelsandresults/Endo-STTN/release_model/sttn_hyper-kvasir-Addingspec-GTdata/NS/ \" +\n",
    "        \" --frame /home/datasets/Hyper_Kvasir/Resized_Renamed_Images_withMasks/Data_NotCropped_usedForTrainingEndoSTTNoriginally/testFramesNS/\"+videoName+\"/ \" +\n",
    "        \" --mask /home/datasets/Hyper_Kvasir/Resized_Renamed_Images_withMasks/Data_NotCropped_usedForTrainingEndoSTTNoriginally/testAnnot/\"+videoName+\"/ \" +\n",
    "        \" -c /home/datasets/Trainedmodelsandresults/Endo-STTN/release_model/sttn_hyper-kvasir-Addingspec-GTdata/ \" +\n",
    "        \" -cn 3 \" + \n",
    "        \" --nomask\"][0]\n",
    "    print(cmd)\n",
    "    os.system(cmd)"
   ]
  },
  {
   "cell_type": "code",
   "execution_count": 2,
   "metadata": {},
   "outputs": [
    {
     "name": "stdout",
     "output_type": "stream",
     "text": [
      "python test-notemp-v3.py --gpu 5  --output /home/datasets/Trainedmodelsandresults/Endo-STTN/release_model/sttn_hyper-kvasir-Addingspec-GTdata/NS/NoTemporalv3/  --frame /home/datasets/Hyper_Kvasir/Resized_Renamed_Images_withMasks/Data_NotCropped_usedForTrainingEndoSTTNoriginally/testFramesNS/  --mask /home/datasets/Hyper_Kvasir/Resized_Renamed_Images_withMasks/Data_NotCropped_usedForTrainingEndoSTTNoriginally/testAnnot/  -c /home/datasets/Trainedmodelsandresults/Endo-STTN/release_model/sttn_hyper-kvasir-Addingspec-GTdata/  -cn 3  --nomask\n"
     ]
    },
    {
     "data": {
      "text/plain": [
       "0"
      ]
     },
     "execution_count": 2,
     "metadata": {},
     "output_type": "execute_result"
    }
   ],
   "source": [
    "#no temp STTN\n",
    "import glob\n",
    "import os\n",
    "os.chdir(\"/home/rdaher/workspace/phd-work/Endo-STTN/\")\n",
    "cmd = [\"python test-notemp-v3.py --gpu 5 \" +\n",
    "    \" --output /home/datasets/Trainedmodelsandresults/Endo-STTN/release_model/sttn_hyper-kvasir-Addingspec-GTdata/NS/NoTemporalv3/ \" +\n",
    "    \" --frame /home/datasets/Hyper_Kvasir/Resized_Renamed_Images_withMasks/Data_NotCropped_usedForTrainingEndoSTTNoriginally/testFramesNS/ \" +\n",
    "    \" --mask /home/datasets/Hyper_Kvasir/Resized_Renamed_Images_withMasks/Data_NotCropped_usedForTrainingEndoSTTNoriginally/testAnnot/ \" +\n",
    "    \" -c /home/datasets/Trainedmodelsandresults/Endo-STTN/release_model/sttn_hyper-kvasir-Addingspec-GTdata/ \" +\n",
    "    \" -cn 3 \" + \n",
    "    \" --nomask\"][0]\n",
    "print(cmd)\n",
    "os.system(cmd)"
   ]
  },
  {
   "cell_type": "code",
   "execution_count": 2,
   "metadata": {},
   "outputs": [],
   "source": [
    "## TOO SLOW\n",
    "# #no temporal STTN\n",
    "# import glob\n",
    "# import os\n",
    "# os.chdir(\"/home/rdaher/workspace/phd-work/Endo-STTN/\")\n",
    "# list_out = []\n",
    "# videoNames=[f'hyperK_{i}' for i in range(343, 373)]\n",
    "# Method  = \"/home/datasets/Trainedmodelsandresults/Endo-STTN/release_model/sttn_hyper-kvasir-Addingspec-GTdata/\"\n",
    "# output = Method + \"NS/notemporal/\"\n",
    "\n",
    "# for videoName in videoNames:\n",
    "#     FramesPath=glob.glob(\"/home/datasets/Hyper_Kvasir/Resized_Renamed_Images_withMasks/Data_NotCropped_usedForTrainingEndoSTTNoriginally/testFramesNS/\"+videoName+\"/*.jpg\")\n",
    "#     for FramePath in FramesPath:\n",
    "#         FrameName=os.path.basename(FramePath)\n",
    "#         filename, file_extension = os.path.splitext(FrameName)\n",
    "#         if int(filename)<927:\n",
    "#             out_str = [\"python test-notemp.py --gpu 0 \" +\n",
    "#                 \" --output \" + output +\"/\" +\n",
    "#                 \" --frame /home/datasets/Hyper_Kvasir/Resized_Renamed_Images_withMasks/Data_NotCropped_usedForTrainingEndoSTTNoriginally/testFramesNS/\"+videoName +\"/\"+FrameName+\n",
    "#                 \" --mask /home/datasets/Hyper_Kvasir/Resized_Renamed_Images_withMasks/Data_NotCropped_usedForTrainingEndoSTTNoriginally/testAnnot/\"+videoName +\"/\"+FrameName+\n",
    "#                 \" -c \" + Method +\n",
    "#                 \" -cn 3 \" + \n",
    "#                 \" --nomask\"][0]\n",
    "#             list_out = list_out + [out_str]\n",
    "\n",
    "# # for i in range(len(FramesPath)):\n",
    "# #     print(list_out[i])\n",
    "# #     os.system(list_out[i])\n",
    "\n",
    "# import pandas as pd\n",
    "# pd.DataFrame(list_out).to_csv(r'runResults-NoTemporalSTTN.sh', header=None, index=None, sep=',', mode='a') \n",
    "# #then run bash script"
   ]
  },
  {
   "cell_type": "code",
   "execution_count": null,
   "metadata": {},
   "outputs": [],
   "source": [
    "#CycleGAN\n",
    "# python test.py --dataroot /home/datasets/Hyper_Kvasir/Resized_Renamed_Images_withMasks/Data_NotCropped_usedForTrainingEndoSTTNoriginally/ \\\n",
    "#  --name PseudoSTTNdataCycle_IdentityAonly_A2losses_ \\\n",
    "#  --model reCycle_gan --which_model_netG resnet_6blocks  --which_model_netP unet_256 --dataset_mode aligned_triplet --no_dropout \\\n",
    "#  --resize_or_crop scale_width --fineSize 256 --loadSize 256 --display_id 5 --which_epoch 2 --gpu 2\n"
   ]
  },
  {
   "cell_type": "code",
   "execution_count": 1,
   "metadata": {},
   "outputs": [
    {
     "name": "stdout",
     "output_type": "stream",
     "text": [
      "python test.py --gpu 0  --output /home/datasets/Trainedmodelsandresults/Endo-STTN/release_model/sttn_hyper-kvasir-Addingspec-GTdata/  --frame /home/datasets/Hyper_Kvasir/Resized_Renamed_Images_withMasks/Data_NotCropped_usedForTrainingEndoSTTNoriginally/testFrames/hyperK_351/  --mask /home/datasets/Hyper_Kvasir/Resized_Renamed_Images_withMasks/Data_NotCropped_usedForTrainingEndoSTTNoriginally/testAnnot/hyperK_351/  -c /home/datasets/Trainedmodelsandresults/Endo-STTN/release_model/sttn_hyper-kvasir-Addingspec-GTdata/  -cn 3  --nomask\n",
      "python test.py --gpu 0  --output /home/datasets/Trainedmodelsandresults/Endo-STTN/release_model/sttn_hyper-kvasir-Addingspec-GTdata/  --frame /home/datasets/Hyper_Kvasir/Resized_Renamed_Images_withMasks/Data_NotCropped_usedForTrainingEndoSTTNoriginally/testFrames/hyperK_359/  --mask /home/datasets/Hyper_Kvasir/Resized_Renamed_Images_withMasks/Data_NotCropped_usedForTrainingEndoSTTNoriginally/testAnnot/hyperK_359/  -c /home/datasets/Trainedmodelsandresults/Endo-STTN/release_model/sttn_hyper-kvasir-Addingspec-GTdata/  -cn 3  --nomask\n",
      "python test.py --gpu 0  --output /home/datasets/Trainedmodelsandresults/Endo-STTN/release_model/sttn_hyper-kvasir-Addingspec-GTdata/  --frame /home/datasets/Hyper_Kvasir/Resized_Renamed_Images_withMasks/Data_NotCropped_usedForTrainingEndoSTTNoriginally/testFrames/hyperK_369/  --mask /home/datasets/Hyper_Kvasir/Resized_Renamed_Images_withMasks/Data_NotCropped_usedForTrainingEndoSTTNoriginally/testAnnot/hyperK_369/  -c /home/datasets/Trainedmodelsandresults/Endo-STTN/release_model/sttn_hyper-kvasir-Addingspec-GTdata/  -cn 3  --nomask\n",
      "python test.py --gpu 0  --output /home/datasets/Trainedmodelsandresults/Endo-STTN/release_model/sttn_hyper-kvasir-Addingspec-GTdata/  --frame /home/datasets/Hyper_Kvasir/Resized_Renamed_Images_withMasks/Data_NotCropped_usedForTrainingEndoSTTNoriginally/testFrames/hyperK_362/  --mask /home/datasets/Hyper_Kvasir/Resized_Renamed_Images_withMasks/Data_NotCropped_usedForTrainingEndoSTTNoriginally/testAnnot/hyperK_362/  -c /home/datasets/Trainedmodelsandresults/Endo-STTN/release_model/sttn_hyper-kvasir-Addingspec-GTdata/  -cn 3  --nomask\n",
      "python test.py --gpu 0  --output /home/datasets/Trainedmodelsandresults/Endo-STTN/release_model/sttn_hyper-kvasir-Addingspec-GTdata/  --frame /home/datasets/Hyper_Kvasir/Resized_Renamed_Images_withMasks/Data_NotCropped_usedForTrainingEndoSTTNoriginally/testFrames/hyperK_367/  --mask /home/datasets/Hyper_Kvasir/Resized_Renamed_Images_withMasks/Data_NotCropped_usedForTrainingEndoSTTNoriginally/testAnnot/hyperK_367/  -c /home/datasets/Trainedmodelsandresults/Endo-STTN/release_model/sttn_hyper-kvasir-Addingspec-GTdata/  -cn 3  --nomask\n",
      "python test.py --gpu 0  --output /home/datasets/Trainedmodelsandresults/Endo-STTN/release_model/sttn_hyper-kvasir-Addingspec-GTdata/  --frame /home/datasets/Hyper_Kvasir/Resized_Renamed_Images_withMasks/Data_NotCropped_usedForTrainingEndoSTTNoriginally/testFrames/hyperK_355/  --mask /home/datasets/Hyper_Kvasir/Resized_Renamed_Images_withMasks/Data_NotCropped_usedForTrainingEndoSTTNoriginally/testAnnot/hyperK_355/  -c /home/datasets/Trainedmodelsandresults/Endo-STTN/release_model/sttn_hyper-kvasir-Addingspec-GTdata/  -cn 3  --nomask\n",
      "python test.py --gpu 0  --output /home/datasets/Trainedmodelsandresults/Endo-STTN/release_model/sttn_hyper-kvasir-Addingspec-GTdata/  --frame /home/datasets/Hyper_Kvasir/Resized_Renamed_Images_withMasks/Data_NotCropped_usedForTrainingEndoSTTNoriginally/testFrames/hyperK_366/  --mask /home/datasets/Hyper_Kvasir/Resized_Renamed_Images_withMasks/Data_NotCropped_usedForTrainingEndoSTTNoriginally/testAnnot/hyperK_366/  -c /home/datasets/Trainedmodelsandresults/Endo-STTN/release_model/sttn_hyper-kvasir-Addingspec-GTdata/  -cn 3  --nomask\n",
      "python test.py --gpu 0  --output /home/datasets/Trainedmodelsandresults/Endo-STTN/release_model/sttn_hyper-kvasir-Addingspec-GTdata/  --frame /home/datasets/Hyper_Kvasir/Resized_Renamed_Images_withMasks/Data_NotCropped_usedForTrainingEndoSTTNoriginally/testFrames/hyperK_361/  --mask /home/datasets/Hyper_Kvasir/Resized_Renamed_Images_withMasks/Data_NotCropped_usedForTrainingEndoSTTNoriginally/testAnnot/hyperK_361/  -c /home/datasets/Trainedmodelsandresults/Endo-STTN/release_model/sttn_hyper-kvasir-Addingspec-GTdata/  -cn 3  --nomask\n",
      "python test.py --gpu 0  --output /home/datasets/Trainedmodelsandresults/Endo-STTN/release_model/sttn_hyper-kvasir-Addingspec-GTdata/  --frame /home/datasets/Hyper_Kvasir/Resized_Renamed_Images_withMasks/Data_NotCropped_usedForTrainingEndoSTTNoriginally/testFrames/hyperK_347/  --mask /home/datasets/Hyper_Kvasir/Resized_Renamed_Images_withMasks/Data_NotCropped_usedForTrainingEndoSTTNoriginally/testAnnot/hyperK_347/  -c /home/datasets/Trainedmodelsandresults/Endo-STTN/release_model/sttn_hyper-kvasir-Addingspec-GTdata/  -cn 3  --nomask\n",
      "python test.py --gpu 0  --output /home/datasets/Trainedmodelsandresults/Endo-STTN/release_model/sttn_hyper-kvasir-Addingspec-GTdata/  --frame /home/datasets/Hyper_Kvasir/Resized_Renamed_Images_withMasks/Data_NotCropped_usedForTrainingEndoSTTNoriginally/testFrames/hyperK_348/  --mask /home/datasets/Hyper_Kvasir/Resized_Renamed_Images_withMasks/Data_NotCropped_usedForTrainingEndoSTTNoriginally/testAnnot/hyperK_348/  -c /home/datasets/Trainedmodelsandresults/Endo-STTN/release_model/sttn_hyper-kvasir-Addingspec-GTdata/  -cn 3  --nomask\n",
      "python test.py --gpu 0  --output /home/datasets/Trainedmodelsandresults/Endo-STTN/release_model/sttn_hyper-kvasir-Addingspec-GTdata/  --frame /home/datasets/Hyper_Kvasir/Resized_Renamed_Images_withMasks/Data_NotCropped_usedForTrainingEndoSTTNoriginally/testFrames/hyperK_368/  --mask /home/datasets/Hyper_Kvasir/Resized_Renamed_Images_withMasks/Data_NotCropped_usedForTrainingEndoSTTNoriginally/testAnnot/hyperK_368/  -c /home/datasets/Trainedmodelsandresults/Endo-STTN/release_model/sttn_hyper-kvasir-Addingspec-GTdata/  -cn 3  --nomask\n",
      "python test.py --gpu 0  --output /home/datasets/Trainedmodelsandresults/Endo-STTN/release_model/sttn_hyper-kvasir-Addingspec-GTdata/  --frame /home/datasets/Hyper_Kvasir/Resized_Renamed_Images_withMasks/Data_NotCropped_usedForTrainingEndoSTTNoriginally/testFrames/hyperK_363/  --mask /home/datasets/Hyper_Kvasir/Resized_Renamed_Images_withMasks/Data_NotCropped_usedForTrainingEndoSTTNoriginally/testAnnot/hyperK_363/  -c /home/datasets/Trainedmodelsandresults/Endo-STTN/release_model/sttn_hyper-kvasir-Addingspec-GTdata/  -cn 3  --nomask\n",
      "python test.py --gpu 0  --output /home/datasets/Trainedmodelsandresults/Endo-STTN/release_model/sttn_hyper-kvasir-Addingspec-GTdata/  --frame /home/datasets/Hyper_Kvasir/Resized_Renamed_Images_withMasks/Data_NotCropped_usedForTrainingEndoSTTNoriginally/testFrames/hyperK_365/  --mask /home/datasets/Hyper_Kvasir/Resized_Renamed_Images_withMasks/Data_NotCropped_usedForTrainingEndoSTTNoriginally/testAnnot/hyperK_365/  -c /home/datasets/Trainedmodelsandresults/Endo-STTN/release_model/sttn_hyper-kvasir-Addingspec-GTdata/  -cn 3  --nomask\n",
      "python test.py --gpu 0  --output /home/datasets/Trainedmodelsandresults/Endo-STTN/release_model/sttn_hyper-kvasir-Addingspec-GTdata/  --frame /home/datasets/Hyper_Kvasir/Resized_Renamed_Images_withMasks/Data_NotCropped_usedForTrainingEndoSTTNoriginally/testFrames/hyperK_360/  --mask /home/datasets/Hyper_Kvasir/Resized_Renamed_Images_withMasks/Data_NotCropped_usedForTrainingEndoSTTNoriginally/testAnnot/hyperK_360/  -c /home/datasets/Trainedmodelsandresults/Endo-STTN/release_model/sttn_hyper-kvasir-Addingspec-GTdata/  -cn 3  --nomask\n",
      "python test.py --gpu 0  --output /home/datasets/Trainedmodelsandresults/Endo-STTN/release_model/sttn_hyper-kvasir-Addingspec-GTdata/  --frame /home/datasets/Hyper_Kvasir/Resized_Renamed_Images_withMasks/Data_NotCropped_usedForTrainingEndoSTTNoriginally/testFrames/hyperK_364/  --mask /home/datasets/Hyper_Kvasir/Resized_Renamed_Images_withMasks/Data_NotCropped_usedForTrainingEndoSTTNoriginally/testAnnot/hyperK_364/  -c /home/datasets/Trainedmodelsandresults/Endo-STTN/release_model/sttn_hyper-kvasir-Addingspec-GTdata/  -cn 3  --nomask\n",
      "python test.py --gpu 0  --output /home/datasets/Trainedmodelsandresults/Endo-STTN/release_model/sttn_hyper-kvasir-Addingspec-GTdata/  --frame /home/datasets/Hyper_Kvasir/Resized_Renamed_Images_withMasks/Data_NotCropped_usedForTrainingEndoSTTNoriginally/testFrames/hyperK_350/  --mask /home/datasets/Hyper_Kvasir/Resized_Renamed_Images_withMasks/Data_NotCropped_usedForTrainingEndoSTTNoriginally/testAnnot/hyperK_350/  -c /home/datasets/Trainedmodelsandresults/Endo-STTN/release_model/sttn_hyper-kvasir-Addingspec-GTdata/  -cn 3  --nomask\n",
      "python test.py --gpu 0  --output /home/datasets/Trainedmodelsandresults/Endo-STTN/release_model/sttn_hyper-kvasir-Addingspec-GTdata/  --frame /home/datasets/Hyper_Kvasir/Resized_Renamed_Images_withMasks/Data_NotCropped_usedForTrainingEndoSTTNoriginally/testFrames/hyperK_371/  --mask /home/datasets/Hyper_Kvasir/Resized_Renamed_Images_withMasks/Data_NotCropped_usedForTrainingEndoSTTNoriginally/testAnnot/hyperK_371/  -c /home/datasets/Trainedmodelsandresults/Endo-STTN/release_model/sttn_hyper-kvasir-Addingspec-GTdata/  -cn 3  --nomask\n",
      "python test.py --gpu 0  --output /home/datasets/Trainedmodelsandresults/Endo-STTN/release_model/sttn_hyper-kvasir-Addingspec-GTdata/  --frame /home/datasets/Hyper_Kvasir/Resized_Renamed_Images_withMasks/Data_NotCropped_usedForTrainingEndoSTTNoriginally/testFrames/hyperK_357/  --mask /home/datasets/Hyper_Kvasir/Resized_Renamed_Images_withMasks/Data_NotCropped_usedForTrainingEndoSTTNoriginally/testAnnot/hyperK_357/  -c /home/datasets/Trainedmodelsandresults/Endo-STTN/release_model/sttn_hyper-kvasir-Addingspec-GTdata/  -cn 3  --nomask\n",
      "python test.py --gpu 0  --output /home/datasets/Trainedmodelsandresults/Endo-STTN/release_model/sttn_hyper-kvasir-Addingspec-GTdata/  --frame /home/datasets/Hyper_Kvasir/Resized_Renamed_Images_withMasks/Data_NotCropped_usedForTrainingEndoSTTNoriginally/testFrames/hyperK_353/  --mask /home/datasets/Hyper_Kvasir/Resized_Renamed_Images_withMasks/Data_NotCropped_usedForTrainingEndoSTTNoriginally/testAnnot/hyperK_353/  -c /home/datasets/Trainedmodelsandresults/Endo-STTN/release_model/sttn_hyper-kvasir-Addingspec-GTdata/  -cn 3  --nomask\n",
      "python test.py --gpu 0  --output /home/datasets/Trainedmodelsandresults/Endo-STTN/release_model/sttn_hyper-kvasir-Addingspec-GTdata/  --frame /home/datasets/Hyper_Kvasir/Resized_Renamed_Images_withMasks/Data_NotCropped_usedForTrainingEndoSTTNoriginally/testFrames/hyperK_356/  --mask /home/datasets/Hyper_Kvasir/Resized_Renamed_Images_withMasks/Data_NotCropped_usedForTrainingEndoSTTNoriginally/testAnnot/hyperK_356/  -c /home/datasets/Trainedmodelsandresults/Endo-STTN/release_model/sttn_hyper-kvasir-Addingspec-GTdata/  -cn 3  --nomask\n",
      "python test.py --gpu 0  --output /home/datasets/Trainedmodelsandresults/Endo-STTN/release_model/sttn_hyper-kvasir-Addingspec-GTdata/  --frame /home/datasets/Hyper_Kvasir/Resized_Renamed_Images_withMasks/Data_NotCropped_usedForTrainingEndoSTTNoriginally/testFrames/hyperK_352/  --mask /home/datasets/Hyper_Kvasir/Resized_Renamed_Images_withMasks/Data_NotCropped_usedForTrainingEndoSTTNoriginally/testAnnot/hyperK_352/  -c /home/datasets/Trainedmodelsandresults/Endo-STTN/release_model/sttn_hyper-kvasir-Addingspec-GTdata/  -cn 3  --nomask\n",
      "python test.py --gpu 0  --output /home/datasets/Trainedmodelsandresults/Endo-STTN/release_model/sttn_hyper-kvasir-Addingspec-GTdata/  --frame /home/datasets/Hyper_Kvasir/Resized_Renamed_Images_withMasks/Data_NotCropped_usedForTrainingEndoSTTNoriginally/testFrames/hyperK_344/  --mask /home/datasets/Hyper_Kvasir/Resized_Renamed_Images_withMasks/Data_NotCropped_usedForTrainingEndoSTTNoriginally/testAnnot/hyperK_344/  -c /home/datasets/Trainedmodelsandresults/Endo-STTN/release_model/sttn_hyper-kvasir-Addingspec-GTdata/  -cn 3  --nomask\n",
      "python test.py --gpu 0  --output /home/datasets/Trainedmodelsandresults/Endo-STTN/release_model/sttn_hyper-kvasir-Addingspec-GTdata/  --frame /home/datasets/Hyper_Kvasir/Resized_Renamed_Images_withMasks/Data_NotCropped_usedForTrainingEndoSTTNoriginally/testFrames/hyperK_358/  --mask /home/datasets/Hyper_Kvasir/Resized_Renamed_Images_withMasks/Data_NotCropped_usedForTrainingEndoSTTNoriginally/testAnnot/hyperK_358/  -c /home/datasets/Trainedmodelsandresults/Endo-STTN/release_model/sttn_hyper-kvasir-Addingspec-GTdata/  -cn 3  --nomask\n",
      "python test.py --gpu 0  --output /home/datasets/Trainedmodelsandresults/Endo-STTN/release_model/sttn_hyper-kvasir-Addingspec-GTdata/  --frame /home/datasets/Hyper_Kvasir/Resized_Renamed_Images_withMasks/Data_NotCropped_usedForTrainingEndoSTTNoriginally/testFrames/hyperK_345/  --mask /home/datasets/Hyper_Kvasir/Resized_Renamed_Images_withMasks/Data_NotCropped_usedForTrainingEndoSTTNoriginally/testAnnot/hyperK_345/  -c /home/datasets/Trainedmodelsandresults/Endo-STTN/release_model/sttn_hyper-kvasir-Addingspec-GTdata/  -cn 3  --nomask\n",
      "python test.py --gpu 0  --output /home/datasets/Trainedmodelsandresults/Endo-STTN/release_model/sttn_hyper-kvasir-Addingspec-GTdata/  --frame /home/datasets/Hyper_Kvasir/Resized_Renamed_Images_withMasks/Data_NotCropped_usedForTrainingEndoSTTNoriginally/testFrames/hyperK_346/  --mask /home/datasets/Hyper_Kvasir/Resized_Renamed_Images_withMasks/Data_NotCropped_usedForTrainingEndoSTTNoriginally/testAnnot/hyperK_346/  -c /home/datasets/Trainedmodelsandresults/Endo-STTN/release_model/sttn_hyper-kvasir-Addingspec-GTdata/  -cn 3  --nomask\n",
      "python test.py --gpu 0  --output /home/datasets/Trainedmodelsandresults/Endo-STTN/release_model/sttn_hyper-kvasir-Addingspec-GTdata/  --frame /home/datasets/Hyper_Kvasir/Resized_Renamed_Images_withMasks/Data_NotCropped_usedForTrainingEndoSTTNoriginally/testFrames/hyperK_343/  --mask /home/datasets/Hyper_Kvasir/Resized_Renamed_Images_withMasks/Data_NotCropped_usedForTrainingEndoSTTNoriginally/testAnnot/hyperK_343/  -c /home/datasets/Trainedmodelsandresults/Endo-STTN/release_model/sttn_hyper-kvasir-Addingspec-GTdata/  -cn 3  --nomask\n",
      "python test.py --gpu 0  --output /home/datasets/Trainedmodelsandresults/Endo-STTN/release_model/sttn_hyper-kvasir-Addingspec-GTdata/  --frame /home/datasets/Hyper_Kvasir/Resized_Renamed_Images_withMasks/Data_NotCropped_usedForTrainingEndoSTTNoriginally/testFrames/hyperK_354/  --mask /home/datasets/Hyper_Kvasir/Resized_Renamed_Images_withMasks/Data_NotCropped_usedForTrainingEndoSTTNoriginally/testAnnot/hyperK_354/  -c /home/datasets/Trainedmodelsandresults/Endo-STTN/release_model/sttn_hyper-kvasir-Addingspec-GTdata/  -cn 3  --nomask\n",
      "python test.py --gpu 0  --output /home/datasets/Trainedmodelsandresults/Endo-STTN/release_model/sttn_hyper-kvasir-Addingspec-GTdata/  --frame /home/datasets/Hyper_Kvasir/Resized_Renamed_Images_withMasks/Data_NotCropped_usedForTrainingEndoSTTNoriginally/testFrames/hyperK_349/  --mask /home/datasets/Hyper_Kvasir/Resized_Renamed_Images_withMasks/Data_NotCropped_usedForTrainingEndoSTTNoriginally/testAnnot/hyperK_349/  -c /home/datasets/Trainedmodelsandresults/Endo-STTN/release_model/sttn_hyper-kvasir-Addingspec-GTdata/  -cn 3  --nomask\n",
      "python test.py --gpu 0  --output /home/datasets/Trainedmodelsandresults/Endo-STTN/release_model/sttn_hyper-kvasir-Addingspec-GTdata/  --frame /home/datasets/Hyper_Kvasir/Resized_Renamed_Images_withMasks/Data_NotCropped_usedForTrainingEndoSTTNoriginally/testFrames/hyperK_372/  --mask /home/datasets/Hyper_Kvasir/Resized_Renamed_Images_withMasks/Data_NotCropped_usedForTrainingEndoSTTNoriginally/testAnnot/hyperK_372/  -c /home/datasets/Trainedmodelsandresults/Endo-STTN/release_model/sttn_hyper-kvasir-Addingspec-GTdata/  -cn 3  --nomask\n",
      "python test.py --gpu 0  --output /home/datasets/Trainedmodelsandresults/Endo-STTN/release_model/sttn_hyper-kvasir-Addingspec-GTdata/  --frame /home/datasets/Hyper_Kvasir/Resized_Renamed_Images_withMasks/Data_NotCropped_usedForTrainingEndoSTTNoriginally/testFrames/hyperK_370/  --mask /home/datasets/Hyper_Kvasir/Resized_Renamed_Images_withMasks/Data_NotCropped_usedForTrainingEndoSTTNoriginally/testAnnot/hyperK_370/  -c /home/datasets/Trainedmodelsandresults/Endo-STTN/release_model/sttn_hyper-kvasir-Addingspec-GTdata/  -cn 3  --nomask\n"
     ]
    }
   ],
   "source": [
    "#STTN\n",
    "import glob\n",
    "import os\n",
    "os.chdir(\"/home/rdaher/workspace/phd-work/Endo-STTN/\")\n",
    "for videoDir in glob.glob(\"/home/datasets/Hyper_Kvasir/Resized_Renamed_Images_withMasks/Data_NotCropped_usedForTrainingEndoSTTNoriginally/testFrames/*\"):\n",
    "    videoName = os.path.basename(videoDir)\n",
    "    cmd = [\"python test.py --gpu 0 \" +\n",
    "        \" --output /home/datasets/Trainedmodelsandresults/Endo-STTN/release_model/sttn_hyper-kvasir-Addingspec-GTdata/ \" +\n",
    "        \" --frame /home/datasets/Hyper_Kvasir/Resized_Renamed_Images_withMasks/Data_NotCropped_usedForTrainingEndoSTTNoriginally/testFrames/\"+videoName+\"/ \" +\n",
    "        \" --mask /home/datasets/Hyper_Kvasir/Resized_Renamed_Images_withMasks/Data_NotCropped_usedForTrainingEndoSTTNoriginally/testAnnot/\"+videoName+\"/ \" +\n",
    "        \" -c /home/datasets/Trainedmodelsandresults/Endo-STTN/release_model/sttn_hyper-kvasir-Addingspec-GTdata/ \" +\n",
    "        \" -cn 3 \" + \n",
    "        \" --nomask\"][0]\n",
    "    print(cmd)\n",
    "    os.system(cmd)"
   ]
  }
 ],
 "metadata": {
  "kernelspec": {
   "display_name": "Python 3.6.3 ('sttn')",
   "language": "python",
   "name": "python3"
  },
  "language_info": {
   "codemirror_mode": {
    "name": "ipython",
    "version": 3
   },
   "file_extension": ".py",
   "mimetype": "text/x-python",
   "name": "python",
   "nbconvert_exporter": "python",
   "pygments_lexer": "ipython3",
   "version": "3.8.5"
  },
  "vscode": {
   "interpreter": {
    "hash": "6de28a05c85e7e0176783e7bf7df59ebb3e6d692840ddb3f8b1b05af417bb7a8"
   }
  }
 },
 "nbformat": 4,
 "nbformat_minor": 4
}
